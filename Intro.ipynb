{
 "cells": [
  {
   "cell_type": "markdown",
   "metadata": {},
   "source": [
    "## Introduction "
   ]
  },
  {
   "cell_type": "markdown",
   "metadata": {},
   "source": [
    "### Both NYC and Toronto are famous big city, they are similar in some way, however, they are also pretty different.\n",
    " First of all, NYC is FAR bigger. Most people who visit NYC really only visit Manhattan (which is large enough), but if you study a map, you'll see that Manhattan is really only a small fraction of NYC.\n",
    "\n",
    "Other differences:\n",
    "\n",
    " NYC's architecture is far more impressive. Toronto's a lovely city, but its streetscapes are made beautiful by the people who occupy it--the cafes and such. The architecture itself leaves much to be desired.\n",
    " \n",
    "NYC is just...more. Toronto's shopping is good, NYC's is astounding. Its art galleries and museums are unimaginable in number. In Toronto, we have one large public gallery, one large public museum, both of which are excellent, but after that, forget it. NYC has numerous of both. And Toronto's live theatre scene is really tiny by comparison.\n",
    "\n",
    "Toronto is cleaner, but not by much. NYC has scrubbed up well these past 20 years.Toronto's subway is way under-developed. (That is supposed to change in the next 10 years, if politicians can stop fighting about it.) But Toronto's subway is certainly far, far cleaner. There isn't that \"ick, just don't touch anything\" feeling.Toronto is far quieter. If there is one thing I dislike in NYC, it's that there's nowhere to catch a moment of calm. Everything is loud and crowded. Conversations in public places are really only had by shouting at least a bit. (You don't even notice it, but monitor yourself while there and you'll realize that the voice in which you speak is a shout, anywhere else in the world.) The one exception is the public library. I find myself ducking in sometimes, just to have 15 minutes of no one yelling.\n",
    "\n",
    "Both cities are quite safe.\n",
    "\n",
    "In terms of living there, Toronto is a nice city. I am very happy living here. But NYC is truly unique, like nowhere else in the world. It is simply, the biggest and best of everything--art, business, theatre, comedy, music, etc. Second best need not apply; bring your A game or don't bother, you'll be eaten alive.\n",
    "\n",
    "This project is to compare NewYork city and Toronto and decide which is a better city to run the business, after decide which city to run the business, I will do more analysis to decide which part of this city is a better place to run the restaurant based on different factors In this project I will just do a breif analysis, in next project I will show more detailed informatin and analysis"
   ]
  },
  {
   "cell_type": "markdown",
   "metadata": {},
   "source": [
    "# Business Problem "
   ]
  },
  {
   "cell_type": "markdown",
   "metadata": {},
   "source": [
    "I will compare NewYork city and Toronto fist to decide which is a better city to run the business, after decide which city to run the business, I will do more analysis to decide which part of this city is a better place to run the restaurant based on different factors In this project I will just do a breif analysis, in next project I will show more detailed informatin and analysi"
   ]
  },
  {
   "cell_type": "code",
   "execution_count": null,
   "metadata": {},
   "outputs": [],
   "source": []
  }
 ],
 "metadata": {
  "kernelspec": {
   "display_name": "Python 3",
   "language": "python",
   "name": "python3"
  },
  "language_info": {
   "codemirror_mode": {
    "name": "ipython",
    "version": 3
   },
   "file_extension": ".py",
   "mimetype": "text/x-python",
   "name": "python",
   "nbconvert_exporter": "python",
   "pygments_lexer": "ipython3",
   "version": "3.7.6"
  }
 },
 "nbformat": 4,
 "nbformat_minor": 4
}
